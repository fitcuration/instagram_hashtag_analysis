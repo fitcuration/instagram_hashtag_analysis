{
 "cells": [
  {
   "cell_type": "code",
   "execution_count": 2,
   "metadata": {},
   "outputs": [
    {
     "data": {
      "text/plain": [
       "['PT',\n",
       " '검도',\n",
       " '기구필라테스',\n",
       " '다빈치바디보드',\n",
       " '드럼스틱',\n",
       " '등산',\n",
       " '라틴댄스',\n",
       " '매트필라테스',\n",
       " '뮤직복싱',\n",
       " '바차타']"
      ]
     },
     "execution_count": 2,
     "metadata": {},
     "output_type": "execute_result"
    }
   ],
   "source": [
    "import pandas as pd\n",
    "import numpy as np\n",
    "\n",
    "df = pd.read_csv(\"./word2vec_wrangling.csv\")\n",
    "exercise_to_loop = df[\"exercise_name\"].to_list()\n",
    "exercise_to_loop.sort()\n",
    "\n",
    "\n",
    "\n",
    "def yield_individual_df(exercise_name):\n",
    "    file_name = \"#\" + exercise_name + \"_sum.txt\"\n",
    "    file_1 = \"/Users/noopy/FitCuration/\" + file_name\n",
    "    text = open(file_1, 'r', -1, \"UTF-8\", errors=\"ignore\").read()\n",
    "    return text\n",
    "    # text\n",
    "exercise_to_loop[:10]"
   ]
  },
  {
   "cell_type": "code",
   "execution_count": 3,
   "metadata": {},
   "outputs": [
    {
     "data": {
      "text/plain": [
       "'#5월10일 #아쿠아바이크 #오픈클라스 #코오롱스포렉스 #서초점 #하이드로라이더  #리더스스포츠 #👍\\n#첫줄 .\\n.\\n.\\n코오롱스포렉스 신규프로그램을 소개합니다. .\\n물속에서 타는 자전거라고 생각하시면 되고 무릎, 요통 등 재활에 탁월한 운동입니다. \\n한시간에 800kcal 소모로 최고의 다이어트 효과를 내며 안전하고 쉽게 탈수 심혈관계 개선에 효과적입니다~! .\\n3타임은 무료로 진행하며 선착순입니다!.\\n1타임 정원 6명이기에 빠른 접수 부탁드립니다~~!.\\n.\\n#아쿠아바이크 .\\n.\\n.\\n#코오롱스포렉스#코오롱#스포렉스#아쿠아#바이크#수중자전거#수중운동#운동스타그램#서초#강남#수영#다이어트#재활운동#무료강습#오픈강습#정규방모집#선착순\\n#동작구삼일수영장#오픈준비 한창이네요.\\n#11월1일 오픈\\n#수영용품자판기\\n#락카의 변신이 시원해 보입니다. #아쿠아스포츠#특화프로그램#아쿠아바이크#아쿠아패들핏#아쿠아잠프\\n처음엔 학점때문에 억지로 신청했는데....아쿠아로빅에 대한 편견을 완전히 깨버린 수업.\\n강의명은 아쿠아로빅인데 아쿠아스포츠라 칭하면 되겠다.\\n진짜 너무 인상깊었고 즐거웠고 이론도 실기도 얻어갈 것이 많았던 강의.\\n4번의 주말집중수업을 끝으로 종강한게 아쉬울정도 !\\n불모지에서 아쿠아스포츠를 발전시키기위해 노력하시고 이로움을 알리시려는 교수님의 진정성이 모든 학생들에게 전해졌었던 것 같다 🙏 \\n다음학기에 또 들어야지😎\\n\\n#수영모자개망#사진찍는다고수영모하나씩벗기 #교수님에게조련당함 #파워운동후신촌황소곱창 #너무맛있어 #아쿠아스포츠 #아쿠아로빅 #수중바이크 #아쿠아바이크 #아쿠아점프 #수중재활 #수중운동 #이채빈 #경희대\\n여름이 가고 가을이 왔듯이\\n곧 나의 2학기도 개강한다.\\n\\n요즘 부쩍 일찍 자려는 큰아들을 보면서 \\n피곤한가, 고민있나, 어디아프나, \\n클려고그러나.. 생각이 들면서도 \\n애기들은 그냥 그럴때도 있지, 엄마가 개강하니 미리 힘을 채우는건가.. 긍정적 생각에 괜한 오지랖을 부렸나 싶고\\n\\n힘내자. \\n나, 너, 우리♡ \\n#역할 #엄마 #대학강사 #대구한의대학교 #국제'"
      ]
     },
     "execution_count": 3,
     "metadata": {},
     "output_type": "execute_result"
    }
   ],
   "source": [
    "yield_individual_df(\"아쿠아바이크\")[:1000]"
   ]
  },
  {
   "cell_type": "code",
   "execution_count": 27,
   "metadata": {},
   "outputs": [],
   "source": [
    "import pandas as pd\n",
    "import numpy as np\n",
    "import re\n",
    "import matplotlib.pyplot as plt\n",
    "\n",
    "%matplotlib inline\n",
    "# 시각화 결과가 선명하게 표시되도록\n",
    "%config InlineBackend.figure_format = 'retina'"
   ]
  },
  {
   "cell_type": "code",
   "execution_count": 4,
   "metadata": {},
   "outputs": [
    {
     "data": {
      "text/html": [
       "<div>\n",
       "<style scoped>\n",
       "    .dataframe tbody tr th:only-of-type {\n",
       "        vertical-align: middle;\n",
       "    }\n",
       "\n",
       "    .dataframe tbody tr th {\n",
       "        vertical-align: top;\n",
       "    }\n",
       "\n",
       "    .dataframe thead th {\n",
       "        text-align: right;\n",
       "    }\n",
       "</style>\n",
       "<table border=\"1\" class=\"dataframe\">\n",
       "  <thead>\n",
       "    <tr style=\"text-align: right;\">\n",
       "      <th></th>\n",
       "      <th>exercise_name</th>\n",
       "      <th>Content_txt</th>\n",
       "    </tr>\n",
       "  </thead>\n",
       "  <tbody>\n",
       "    <tr>\n",
       "      <td>0</td>\n",
       "      <td>PT</td>\n",
       "      <td>💯 What I try to educate my clients around, doe...</td>\n",
       "    </tr>\n",
       "    <tr>\n",
       "      <td>0</td>\n",
       "      <td>PT</td>\n",
       "      <td>💯 What I try to educate my clients around, doe...</td>\n",
       "    </tr>\n",
       "    <tr>\n",
       "      <td>0</td>\n",
       "      <td>검도</td>\n",
       "      <td>#20200115\\n저녁 초대!\\n와인잔 속에 비치는\\n모든 것들이 화려한\\n도심속...</td>\n",
       "    </tr>\n",
       "    <tr>\n",
       "      <td>0</td>\n",
       "      <td>기구필라테스</td>\n",
       "      <td>#오늘의동작\\n캐딜락 동작의 완성 '행잉'\\n⠀\\n중력을 이용해 척추를 늘려주고\\n...</td>\n",
       "    </tr>\n",
       "    <tr>\n",
       "      <td>0</td>\n",
       "      <td>다빈치바디보드</td>\n",
       "      <td>#mbn생생정보마당 \\n#고투\\n#고투GX\\n#다빈치바디보드\\n#생방송 #GOTOL...</td>\n",
       "    </tr>\n",
       "  </tbody>\n",
       "</table>\n",
       "</div>"
      ],
      "text/plain": [
       "  exercise_name                                        Content_txt\n",
       "0            PT  💯 What I try to educate my clients around, doe...\n",
       "0            PT  💯 What I try to educate my clients around, doe...\n",
       "0            검도  #20200115\\n저녁 초대!\\n와인잔 속에 비치는\\n모든 것들이 화려한\\n도심속...\n",
       "0        기구필라테스  #오늘의동작\\n캐딜락 동작의 완성 '행잉'\\n⠀\\n중력을 이용해 척추를 늘려주고\\n...\n",
       "0       다빈치바디보드  #mbn생생정보마당 \\n#고투\\n#고투GX\\n#다빈치바디보드\\n#생방송 #GOTOL..."
      ]
     },
     "execution_count": 4,
     "metadata": {},
     "output_type": "execute_result"
    }
   ],
   "source": [
    "insta1 = pd.DataFrame([{'exercise_name': 'PT', 'Content_txt': yield_individual_df('PT')}])\n",
    "for exercise_name in exercise_to_loop:\n",
    "    text = yield_individual_df(exercise_name)\n",
    "    insta = pd.DataFrame([{'exercise_name': exercise_name,\n",
    "                          'Content_txt': text}])\n",
    "    insta1 = pd.concat([insta1,insta])\n",
    "insta1.head()"
   ]
  },
  {
   "cell_type": "code",
   "execution_count": 30,
   "metadata": {},
   "outputs": [],
   "source": [
    "insta1.to_csv(\"word2vec_wrangling_name_fixed.csv\", index=False, header=True)"
   ]
  },
  {
   "cell_type": "code",
   "execution_count": null,
   "metadata": {},
   "outputs": [],
   "source": []
  }
 ],
 "metadata": {
  "kernelspec": {
   "display_name": "Python 3",
   "language": "python",
   "name": "python3"
  },
  "language_info": {
   "codemirror_mode": {
    "name": "ipython",
    "version": 3
   },
   "file_extension": ".py",
   "mimetype": "text/x-python",
   "name": "python",
   "nbconvert_exporter": "python",
   "pygments_lexer": "ipython3",
   "version": "3.7.4"
  },
  "toc": {
   "base_numbering": 1,
   "nav_menu": {},
   "number_sections": true,
   "sideBar": true,
   "skip_h1_title": false,
   "title_cell": "Table of Contents",
   "title_sidebar": "Contents",
   "toc_cell": false,
   "toc_position": {},
   "toc_section_display": true,
   "toc_window_display": false
  },
  "varInspector": {
   "cols": {
    "lenName": 16,
    "lenType": 16,
    "lenVar": 40
   },
   "kernels_config": {
    "python": {
     "delete_cmd_postfix": "",
     "delete_cmd_prefix": "del ",
     "library": "var_list.py",
     "varRefreshCmd": "print(var_dic_list())"
    },
    "r": {
     "delete_cmd_postfix": ") ",
     "delete_cmd_prefix": "rm(",
     "library": "var_list.r",
     "varRefreshCmd": "cat(var_dic_list()) "
    }
   },
   "types_to_exclude": [
    "module",
    "function",
    "builtin_function_or_method",
    "instance",
    "_Feature"
   ],
   "window_display": false
  }
 },
 "nbformat": 4,
 "nbformat_minor": 2
}
