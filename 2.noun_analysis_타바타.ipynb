{
 "cells": [
  {
   "cell_type": "code",
   "execution_count": 2,
   "metadata": {},
   "outputs": [],
   "source": [
    "exercise_name = \"타바타\""
   ]
  },
  {
   "cell_type": "code",
   "execution_count": 3,
   "metadata": {},
   "outputs": [
    {
     "data": {
      "text/plain": [
       "\"#Repost @choihayeon0416 (@get_repost)\\n・・・\\n#공지 #무인gx #무인gx컨텐츠사업\\n저희 #바디엔지니어스짐 에서 무인gx컨텐츠제작을시작합니다\\n이건 샘플영상이고 여기서 음악 더빙작업과 자막작업 영상편집작업이더들어가게됩니다 촬영도 더 디테일하고 고화질로작업되구요\\n올해부터 모든전지점 무인gx를점차적시행예정이구 기존유인gx는 기존대로 수업진행하며 나머지 am8시부터pm12시까지 full로gx가\\n진행됩니다 단한명이라도 수업을들을수있는구조가 되는거죠 \\n실제같은 무인gx수업되도록 노력하겠습니다\\n#요가#줌바#다빈치보드#스트레칭#타바타 #댄스 여러가지 영상제작됩니다\\n기대하셔도좋습니다\\n#무인컨텐츠가필요하신센터는연락주세요\\n#실력있는강사분도연락주세요 요가줌바댄스\\n#미래에빨리다가가세요\\n#컨텐츠계약\\n#하루종일gx수업이있는센터\\n\\n#365일24시\\n#무인헬스장\\n#무인결제기\\n#운동은원래여기서하는겁니다\\n#프리미엄의진정한가치 \\n#바디엔지니어스짐24\\n#365일24시 #대구24시헬스 #무인헬스\\n오늘도 감사합니다 🙏❤🥰\\n2020년 부터\\n#맨즈요가 #남자요가\\n'이리스요가'에서 시작하세요 ~👫\\n°\\n°\\n\\u200b🌱🌿☘🍀🌳\\n\\u200b°\\n함께 할수 있음에 감사드립니다 🙏 ♡베풂의 뿌리, 나무♡\\n#이리스요가 IRISYOGA\\n°\\n°\\n#부산 #정관요가 #정관필라테스 #정관다이어트 #다이어트전문 #체형교정전문 #근력운동 #정관신도시 #정관핫플 #정관개인레슨 #운동하는여자 #운동하는남자 #요가 #정관다이어트 #척추교정 #골반교정 #허리디스크 #타바타 #yoga #pilates #요가지도자과정\\n#아마존 아닌\\n우리엄마 #마미존\\n-\\n저희 형님께서 오픈하는 모두짐! 걍 말이 필요 없으니 이용해보세요^^ 제가 보증합니다~~수원,동탄 사는분들 얼른 레고레고💪💪\\n-\\n#리그램 - @simhyojoeng by @get_regrammer\\n동탄2신도시 모두짐 오픈예정! \\n프리미엄 G.X / PT 🖤\\n-\\n다이어트댄스/줌바댄스\\n테라피요가/빈야사요가/힐링요가\\n필라핏/타바타\\n키즈방송댄스/키즈성장운동/키즈요가\\n1:1PT / 그룹PT\""
      ]
     },
     "execution_count": 3,
     "metadata": {},
     "output_type": "execute_result"
    }
   ],
   "source": [
    "file_name = \"#\" + exercise_name +\"_sum.txt\"\n",
    "file_1 = \"/Users/noopy/FitCuration/\" + file_name\n",
    "text = open(file_1, 'r',-1,\"UTF-8\",errors=\"ignore\").read()\n",
    "text[:1000]"
   ]
  },
  {
   "cell_type": "code",
   "execution_count": 4,
   "metadata": {},
   "outputs": [
    {
     "data": {
      "text/plain": [
       "'  공지 무인 무인컨텐츠사업저희 바디엔지니어스짐 에서 무인컨텐츠제작을시작합니다이건 샘플영상이고 여기서 음악 더빙작업과 자막작업 영상편집작업이더들어가게됩니다 촬영도 더 디테일하고 고화질로작업되구요올해부터 모든전지점 무인를점차적시행예정이구 기존유인는 기존대로 수업진행하며 나머지 시부터시까지 로가진행됩니다 단한명이라도 수업을들을수있는구조가 되는거죠 실제같은 무인수업되도록 노력하겠습니다요가줌바다빈치보드스트레칭타바타 댄스 여러가지 영상제작됩니다기대하셔도좋습니다무인컨텐츠가필요하신센터는연락주세요실력있는강사분도연락주세요 요가줌바댄스미래에빨리다가가세요컨텐츠계약하루종일수업이있는센터일시무인헬스장무인결제기운동은원래여기서하는겁니다프리미엄의진정한가치 바디엔지니어스짐일시 대구시헬스 무인헬스오늘도 감사합니다 년 부터맨즈요가 남자요가이리스요가에서 시작하세요 함께 할수 있음에 감사드립니다  베풂의 뿌리 나무이리스요가 부산 정관요가 정관필라테스 정관다이어트 다이어트전문 체형교정전문 근력운동 정관신도시 정관핫플 정관개인레슨 운동하는여자 운동하는남자 요가 정관다이어트 척추교정 골반교정 허리디스크 타바타   요가지도자과정아마존 아닌우리엄마 마미존저희 형님께서 오픈하는 모두짐 걍 말이 필요 없으니 이용해보세요 제가 보증합니다수원동탄 사는분들 얼른 레고레고리그램    동탄신도시 모두짐 오픈예정 프리미엄    다이어트댄스줌바댄스테라피요가빈야사요가힐링요가필라핏타바타키즈방송댄스키즈성장운동키즈요가  그룹  교정운동  테라피모두짐다이어트댄스 줌바댄스요가 필라핏타바타 키즈방송댄스 키즈성장운동키즈요가  그룹 다이어트 건강체력증진 교정운동 테라피 동탄신도시동탄  일차 회 성공별거아녜요 타바타로키크로스핏잘먹을게요 ㅋㅋㅋㅍㅍ 프로젝트핏 양재역 피트니스 양재헬스 양재크로스핏 양재휘트니스 몸만들기 타바타 건강스타그램 건강 다이어트 헬스타그램  피트니스타그램 몸스타그램 운동스타그램  웨이트 바디프로필 바디체크 다이어트 몸매관리 다이어트그램 운동파트너 양재시민의숲 홈트강사 선생님들이 이렇게박자와 동작이 딱딱 맞는 이유탈때마다 '"
      ]
     },
     "execution_count": 4,
     "metadata": {},
     "output_type": "execute_result"
    }
   ],
   "source": [
    "# -*- coding: utf-8 -*-\n",
    "import re\n",
    "def preprocessing_hangul(text):\n",
    "    # 개행문자 제거\n",
    "    hangul = re.compile('[^ ㄱ-ㅣ가-힣]+')\n",
    "    result = hangul.sub('', text)\n",
    "    return result\n",
    "\n",
    "clean_text = preprocessing_hangul(text)\n",
    "clean_text[:1000]"
   ]
  },
  {
   "cell_type": "code",
   "execution_count": 5,
   "metadata": {},
   "outputs": [
    {
     "data": {
      "text/plain": [
       "[('운동', 2558),\n",
       " ('다이어트', 1438),\n",
       " ('타바타', 1210),\n",
       " ('복싱', 835),\n",
       " ('댄스', 683),\n",
       " ('그램', 603),\n",
       " ('헬스', 599),\n",
       " ('요가', 594),\n",
       " ('핏', 528),\n",
       " ('구미', 486),\n",
       " ('짐', 462),\n",
       " ('키즈', 457),\n",
       " ('건강', 446),\n",
       " ('그룹', 411),\n",
       " ('피닝', 356),\n",
       " ('바디', 348),\n",
       " ('교정', 322),\n",
       " ('바', 292),\n",
       " ('테라', 282),\n",
       " ('수업', 260)]"
      ]
     },
     "execution_count": 5,
     "metadata": {},
     "output_type": "execute_result"
    }
   ],
   "source": [
    "from konlpy.tag import Mecab\n",
    "mecab = Mecab()\n",
    "noun_list_mecab = mecab.nouns(clean_text)\n",
    "\n",
    "# stopwards preprocessing\n",
    "stopwords_mecab = ['수','퀄리티','도시','분','전문','스타','년','원'] \n",
    "\n",
    "clean_noun_list_mecab = []\n",
    "\n",
    "for n in noun_list_mecab:\n",
    "    if n not in stopwords_mecab:\n",
    "        clean_noun_list_mecab.append(n)\n",
    "\n",
    "# get top 20 most common nouns\n",
    "from collections import Counter\n",
    "nouns_mecab = Counter(clean_noun_list_mecab)\n",
    "\n",
    "tags_mecab = nouns_mecab.most_common(20)\n",
    "tags_mecab"
   ]
  },
  {
   "cell_type": "code",
   "execution_count": 6,
   "metadata": {
    "hide_input": false
   },
   "outputs": [
    {
     "data": {
      "text/plain": [
       "[('운동', 2660),\n",
       " ('다이어트', 1441),\n",
       " ('바타', 916),\n",
       " ('복싱', 832),\n",
       " ('요가', 659),\n",
       " ('댄스', 652),\n",
       " ('키즈', 644),\n",
       " ('그램', 597),\n",
       " ('구미', 462),\n",
       " ('짐', 434),\n",
       " ('타바', 427),\n",
       " ('그룹', 411),\n",
       " ('바디', 363),\n",
       " ('건강', 345),\n",
       " ('교정', 324),\n",
       " ('헬스', 305),\n",
       " ('피', 301),\n",
       " ('핏', 296),\n",
       " ('줌바', 285),\n",
       " ('테라', 283)]"
      ]
     },
     "execution_count": 6,
     "metadata": {},
     "output_type": "execute_result"
    }
   ],
   "source": [
    "#Twitter, which has changed to Okt\n",
    "from konlpy.tag import Okt\n",
    "okt = Okt()\n",
    "noun_list_okt = okt.nouns(clean_text)\n",
    "\n",
    "stopwords_okt = ['수','퀄리티','도시','분','전문','스타','년','원'] \n",
    "\n",
    "clean_noun_list_okt = []\n",
    "\n",
    "for n in noun_list_okt:\n",
    "  if n not in stopwords_okt:\n",
    "    clean_noun_list_okt.append(n)\n",
    "\n",
    "\n",
    "from collections import Counter\n",
    "nouns_okt = Counter(clean_noun_list_okt)\n",
    "# counted_nouns\n",
    "\n",
    "tags_okt = nouns_okt.most_common(20)\n",
    "tags_okt"
   ]
  },
  {
   "cell_type": "code",
   "execution_count": 7,
   "metadata": {},
   "outputs": [
    {
     "data": {
      "text/plain": [
       "\"\\nfrom konlpy.tag import Komoran\\nkomoran = Komoran()\\nnoun_list_komoran = komoran.nouns(clean_text)\\n\\nstopwords_komoran = ['수','퀄리티','도시','분','전문','스타','년','원'] \\n\\nclean_noun_list_komoran = []\\n\\nfor n in noun_list_komoran:\\n  if n not in stopwords_komoran:\\n    clean_noun_list_komoran.append(n)\\n\\n\\nfrom collections import Counter\\nnouns_komoran = Counter(clean_noun_list_komoran)\\n# counted_nouns\\n\\ntags_komoran = nouns_komoran.most_common(100)\\ntags_komoran\\n\""
      ]
     },
     "execution_count": 7,
     "metadata": {},
     "output_type": "execute_result"
    }
   ],
   "source": [
    "# Komoran\n",
    "# takes too much time.\n",
    "\"\"\"\n",
    "from konlpy.tag import Komoran\n",
    "komoran = Komoran()\n",
    "noun_list_komoran = komoran.nouns(clean_text)\n",
    "\n",
    "stopwords_komoran = ['수','퀄리티','도시','분','전문','스타','년','원'] \n",
    "\n",
    "clean_noun_list_komoran = []\n",
    "\n",
    "for n in noun_list_komoran:\n",
    "  if n not in stopwords_komoran:\n",
    "    clean_noun_list_komoran.append(n)\n",
    "\n",
    "\n",
    "from collections import Counter\n",
    "nouns_komoran = Counter(clean_noun_list_komoran)\n",
    "# counted_nouns\n",
    "\n",
    "tags_komoran = nouns_komoran.most_common(100)\n",
    "tags_komoran\n",
    "\"\"\""
   ]
  },
  {
   "cell_type": "code",
   "execution_count": null,
   "metadata": {},
   "outputs": [],
   "source": []
  }
 ],
 "metadata": {
  "kernelspec": {
   "display_name": "Python 3",
   "language": "python",
   "name": "python3"
  },
  "language_info": {
   "codemirror_mode": {
    "name": "ipython",
    "version": 3
   },
   "file_extension": ".py",
   "mimetype": "text/x-python",
   "name": "python",
   "nbconvert_exporter": "python",
   "pygments_lexer": "ipython3",
   "version": "3.7.4"
  },
  "toc": {
   "base_numbering": 1,
   "nav_menu": {},
   "number_sections": true,
   "sideBar": true,
   "skip_h1_title": false,
   "title_cell": "Table of Contents",
   "title_sidebar": "Contents",
   "toc_cell": false,
   "toc_position": {},
   "toc_section_display": true,
   "toc_window_display": false
  },
  "varInspector": {
   "cols": {
    "lenName": 16,
    "lenType": 16,
    "lenVar": 40
   },
   "kernels_config": {
    "python": {
     "delete_cmd_postfix": "",
     "delete_cmd_prefix": "del ",
     "library": "var_list.py",
     "varRefreshCmd": "print(var_dic_list())"
    },
    "r": {
     "delete_cmd_postfix": ") ",
     "delete_cmd_prefix": "rm(",
     "library": "var_list.r",
     "varRefreshCmd": "cat(var_dic_list()) "
    }
   },
   "types_to_exclude": [
    "module",
    "function",
    "builtin_function_or_method",
    "instance",
    "_Feature"
   ],
   "window_display": false
  }
 },
 "nbformat": 4,
 "nbformat_minor": 2
}
