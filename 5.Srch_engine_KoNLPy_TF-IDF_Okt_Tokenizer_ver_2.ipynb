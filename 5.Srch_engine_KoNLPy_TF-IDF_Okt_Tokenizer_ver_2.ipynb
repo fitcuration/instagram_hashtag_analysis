{
 "cells": [
  {
   "cell_type": "markdown",
   "metadata": {},
   "source": [
    "출처: https://blog.breezymind.com/2018/03/02/sklearn-feature_extraction-text-2/"
   ]
  },
  {
   "cell_type": "code",
   "execution_count": 1,
   "metadata": {},
   "outputs": [],
   "source": [
    "import pandas as pd\n",
    "import numpy as np\n",
    "pd.options.mode.chained_assignment = None\n",
    "np.random.seed(0)\n",
    "\n",
    "from konlpy.tag import Okt\n",
    "twitter = Okt()\n",
    "\n",
    "\n",
    "from sklearn.feature_extraction.text import TfidfVectorizer, CountVectorizer\n",
    "from sklearn.metrics.pairwise import linear_kernel, cosine_similarity\n",
    "\n",
    "# tokenizer : 문장에서 색인어 추출을 위해 명사,동사,알파벳,숫자 정도의 단어만 뽑아서 normalization, stemming 처리하도록 함\n",
    "# tokenizer : 문장에서 색인어 추출을 위해 명사,동사,알파벳,숫자 정도의 단어만 뽑아서 normalization, stemming 처리하도록 함\n",
    "def tokenizer(raw, pos=[\"Noun\",\"Alpha\",\"Verb\",\"Number\"], stopword=[]):\n",
    "    return [\n",
    "        word for word, tag in twitter.pos(\n",
    "            raw, \n",
    "            norm=True,   # normalize 그랰ㅋㅋ -> 그래ㅋㅋ\n",
    "            stem=True    # stemming 바뀌나->바뀌다\n",
    "            )\n",
    "            if len(word) > 1 and tag in pos and word not in stopword\n",
    "        ]\n",
    "\n",
    "# 테스트 문장\n",
    "df = pd.read_csv(\"word2vec_wrangling.csv\")"
   ]
  },
  {
   "cell_type": "code",
   "execution_count": null,
   "metadata": {
    "hide_input": true
   },
   "outputs": [],
   "source": []
  },
  {
   "cell_type": "code",
   "execution_count": 2,
   "metadata": {},
   "outputs": [
    {
     "data": {
      "text/html": [
       "<div>\n",
       "<style scoped>\n",
       "    .dataframe tbody tr th:only-of-type {\n",
       "        vertical-align: middle;\n",
       "    }\n",
       "\n",
       "    .dataframe tbody tr th {\n",
       "        vertical-align: top;\n",
       "    }\n",
       "\n",
       "    .dataframe thead th {\n",
       "        text-align: right;\n",
       "    }\n",
       "</style>\n",
       "<table border=\"1\" class=\"dataframe\">\n",
       "  <thead>\n",
       "    <tr style=\"text-align: right;\">\n",
       "      <th></th>\n",
       "      <th>exercise_name</th>\n",
       "      <th>Content_txt</th>\n",
       "    </tr>\n",
       "  </thead>\n",
       "  <tbody>\n",
       "    <tr>\n",
       "      <td>0</td>\n",
       "      <td>PT</td>\n",
       "      <td>💯 What I try to educate my clients around, doe...</td>\n",
       "    </tr>\n",
       "    <tr>\n",
       "      <td>1</td>\n",
       "      <td>검도</td>\n",
       "      <td>#20200115\\n저녁 초대!\\n와인잔 속에 비치는\\n모든 것들이 화려한\\n도심속...</td>\n",
       "    </tr>\n",
       "    <tr>\n",
       "      <td>2</td>\n",
       "      <td>기구필라테스</td>\n",
       "      <td>#오늘의동작\\n캐딜락 동작의 완성 '행잉'\\n⠀\\n중력을 이용해 척추를 늘려주고\\n...</td>\n",
       "    </tr>\n",
       "    <tr>\n",
       "      <td>3</td>\n",
       "      <td>다빈치바디보드</td>\n",
       "      <td>#mbn생생정보마당 \\n#고투\\n#고투GX\\n#다빈치바디보드\\n#생방송 #GOTOL...</td>\n",
       "    </tr>\n",
       "    <tr>\n",
       "      <td>4</td>\n",
       "      <td>드럼스틱</td>\n",
       "      <td>#드럼스틱 #고무팁 #테크라스틱 #전자드럼용스틱\\n\\n1. 전자드럼타격시 덜 시끄럽...</td>\n",
       "    </tr>\n",
       "  </tbody>\n",
       "</table>\n",
       "</div>"
      ],
      "text/plain": [
       "  exercise_name                                        Content_txt\n",
       "0            PT  💯 What I try to educate my clients around, doe...\n",
       "1            검도  #20200115\\n저녁 초대!\\n와인잔 속에 비치는\\n모든 것들이 화려한\\n도심속...\n",
       "2        기구필라테스  #오늘의동작\\n캐딜락 동작의 완성 '행잉'\\n⠀\\n중력을 이용해 척추를 늘려주고\\n...\n",
       "3       다빈치바디보드  #mbn생생정보마당 \\n#고투\\n#고투GX\\n#다빈치바디보드\\n#생방송 #GOTOL...\n",
       "4          드럼스틱  #드럼스틱 #고무팁 #테크라스틱 #전자드럼용스틱\\n\\n1. 전자드럼타격시 덜 시끄럽..."
      ]
     },
     "execution_count": 2,
     "metadata": {},
     "output_type": "execute_result"
    }
   ],
   "source": [
    "df.head()"
   ]
  },
  {
   "cell_type": "code",
   "execution_count": 3,
   "metadata": {},
   "outputs": [],
   "source": [
    "import re\n",
    "\n",
    "def preprocessing(text):\n",
    "    # 개행문자 제거\n",
    "    text = re.sub('\\\\\\\\n', ' ', text)\n",
    "    # 특수문자 제거\n",
    "    # 특수문자나 이모티콘 등은 때로는 의미를 갖기도 하지만 여기에서는 제거했습니다.\n",
    "    # text = re.sub('[?.,;:|\\)*~`’!^\\-_+<>@\\#$%&-=#}※]', '', text)\n",
    "    # 한글, 영문, 숫자만 남기고 모두 제거하도록 합니다.\n",
    "    # text = re.sub('[^가-힣ㄱ-ㅎㅏ-ㅣa-zA-Z0-9]', ' ', text)\n",
    "    # 한글, 영문만 남기고 모두 제거하도록 합니다.\n",
    "    text = re.sub('[^가-힣ㄱ-ㅎㅏ-ㅣa-zA-Z]', ' ', text)\n",
    "    return text"
   ]
  },
  {
   "cell_type": "code",
   "execution_count": 4,
   "metadata": {},
   "outputs": [
    {
     "name": "stdout",
     "output_type": "stream",
     "text": [
      "CPU times: user 789 ms, sys: 9.75 ms, total: 798 ms\n",
      "Wall time: 797 ms\n"
     ]
    }
   ],
   "source": [
    "%time rawdata = df['Content_txt'].apply(preprocessing)"
   ]
  },
  {
   "cell_type": "code",
   "execution_count": 5,
   "metadata": {},
   "outputs": [
    {
     "name": "stdout",
     "output_type": "stream",
     "text": [
      "0       What I try to educate my clients around  doe...\n",
      "1               저녁 초대  와인잔 속에 비치는 모든 것들이 화려한 도심속의 서울...\n",
      "2      오늘의동작 캐딜락 동작의 완성  행잉    중력을 이용해 척추를 늘려주고 팔과 어...\n",
      "3      mbn생생정보마당   고투  고투GX  다빈치바디보드  생방송  GOTOLIVE ...\n",
      "4      드럼스틱  고무팁  테크라스틱  전자드럼용스틱     전자드럼타격시 덜 시끄럽다 ...\n",
      "                            ...                        \n",
      "56      오늘 날씨 어때요  따뜻한 주말 되세요   어제사진  셀카타이머인생    my ...\n",
      "57        설 연휴 휴강공지            월   일 금요일과  월   일 월요일...\n",
      "58        왜 바이럴 스토어를 선택해야 하나요         바이럴 스토어는      ...\n",
      "59    사진을 비스듬히 찍으면 키를잃고 커보이는 상체를 얻을수 있다         팔뚝이허...\n",
      "60     월 일  서울숲  시티포레스티벌  날씨  실화냐  힙레  발레핏  줌바  요가 재...\n",
      "Name: Content_txt, Length: 61, dtype: object\n"
     ]
    }
   ],
   "source": [
    "print(rawdata)"
   ]
  },
  {
   "cell_type": "code",
   "execution_count": 6,
   "metadata": {
    "scrolled": true
   },
   "outputs": [
    {
     "name": "stdout",
     "output_type": "stream",
     "text": [
      "CPU times: user 9min 5s, sys: 21.8 s, total: 9min 27s\n",
      "Wall time: 7min 30s\n",
      "[[0.01845768 0.         0.00949002 ... 0.         0.         0.        ]\n",
      " [0.         0.         0.         ... 0.         0.01298815 0.        ]\n",
      " [0.         0.02342017 0.         ... 0.01069141 0.         0.        ]\n",
      " ...\n",
      " [0.         0.         0.         ... 0.         0.         0.        ]\n",
      " [0.01089691 0.         0.02467502 ... 0.         0.         0.        ]\n",
      " [0.         0.         0.         ... 0.         0.06379826 0.        ]]\n"
     ]
    }
   ],
   "source": [
    "vectorize = TfidfVectorizer(\n",
    "    tokenizer=tokenizer,\n",
    "    min_df=5,\n",
    "    sublinear_tf=True    # tf값에 1+log(tf)를 적용하여 tf값이 무한정 커지는 것을 막음\n",
    ")\n",
    "%time X = vectorize.fit_transform(rawdata)\n",
    "\n",
    "# fit_transform, (sentence 5, feature 7)\n",
    "\n",
    "print(X.toarray())\n",
    "\n",
    "# ([[0.        , 0.40824829, 0.81649658, 0.        , 0.        , 0.        , 0.40824829],\n",
    "# [0.        , 0.40824829, 0.40824829, 0.        , 0.        , 0.        , 0.81649658],\n",
    "# [0.41680418, 0.        , 0.        , 0.69197025, 0.41680418, 0.41680418, 0.        ],\n",
    "# [0.76944707, 0.        , 0.        , 0.63871058, 0.        , 0.        , 0.        ],\n",
    "# [0.        , 0.        , 0.        , 0.8695635 , 0.34918428, 0.34918428, 0.        ]])\n",
    "\n",
    "# 문장에서 뽑아낸 feature 들의 배열\n",
    "features = vectorize.get_feature_names()"
   ]
  },
  {
   "cell_type": "code",
   "execution_count": 10,
   "metadata": {},
   "outputs": [
    {
     "name": "stdout",
     "output_type": "stream",
     "text": [
      "14098\n"
     ]
    }
   ],
   "source": [
    "print(len(features))"
   ]
  },
  {
   "cell_type": "code",
   "execution_count": 11,
   "metadata": {},
   "outputs": [
    {
     "data": {
      "text/plain": [
       "['ab',\n",
       " 'abc',\n",
       " 'abdominal',\n",
       " 'able',\n",
       " 'about',\n",
       " 'abs',\n",
       " 'abt',\n",
       " 'ac',\n",
       " 'academy',\n",
       " 'account',\n",
       " 'ace',\n",
       " 'acrobatics']"
      ]
     },
     "execution_count": 11,
     "metadata": {},
     "output_type": "execute_result"
    }
   ],
   "source": [
    "features[:12]"
   ]
  },
  {
   "cell_type": "code",
   "execution_count": 8,
   "metadata": {},
   "outputs": [
    {
     "name": "stdout",
     "output_type": "stream",
     "text": [
      "['복근', '운동']\n"
     ]
    }
   ],
   "source": [
    "# 검색 문장에서 feature를 뽑아냄. 단, 아직 띄어쓰기 모듈은 적용이 안 되어 있음\n",
    "srch=[t for t in tokenizer('복근에 좋은 운동') if t in features]\n",
    "print(srch)\n",
    "\n",
    "# 검색어 예시는 다음과 같음\n",
    "\n",
    "# 무릎 관절에 좋은 운동\n",
    "# 복근 만드는 운동\n",
    "# 골반 균형 맞추는 운동\n",
    "# 대학교에서 동아리로 할 수 있는 운동\n",
    "# 체형 교정 운동\n",
    "# 척추 측만에 좋은 운동 \n",
    "# 허리 디스크 운동\n",
    "# 허리 통증 완화 운동\n",
    "# 키 크는 운동\n",
    "# 아이랑 같이 할 수 있는 운동\n",
    "# 실내 운동\n",
    "# 주말에 하기 좋은 운동\n",
    "# 신나는 운동\n",
    "# 이색적인 운동"
   ]
  },
  {
   "cell_type": "code",
   "execution_count": 9,
   "metadata": {},
   "outputs": [
    {
     "name": "stdout",
     "output_type": "stream",
     "text": [
      "61\n"
     ]
    },
    {
     "data": {
      "text/plain": [
       "array([[0.01171391, 0.02049993],\n",
       "       [0.00513336, 0.02970128],\n",
       "       [0.02089141, 0.02915134],\n",
       "       [0.01628533, 0.03158734],\n",
       "       [0.        , 0.01792581],\n",
       "       [0.00493877, 0.02576911],\n",
       "       [0.        , 0.02554627],\n",
       "       [0.01857743, 0.02925842],\n",
       "       [0.0208113 , 0.03383111],\n",
       "       [0.        , 0.02644911],\n",
       "       [0.01161136, 0.02423812],\n",
       "       [0.01360429, 0.02828777],\n",
       "       [0.01280858, 0.02407355],\n",
       "       [0.        , 0.03262212],\n",
       "       [0.00872243, 0.03306699],\n",
       "       [0.01825001, 0.03178166],\n",
       "       [0.01673009, 0.02967879],\n",
       "       [0.        , 0.02513198],\n",
       "       [0.00715791, 0.02382444],\n",
       "       [0.01317643, 0.02792821],\n",
       "       [0.        , 0.02494428],\n",
       "       [0.        , 0.02189571],\n",
       "       [0.01742788, 0.02978261],\n",
       "       [0.00910236, 0.02322455],\n",
       "       [0.01304624, 0.02561256],\n",
       "       [0.0177172 , 0.02711924],\n",
       "       [0.00413173, 0.02292213],\n",
       "       [0.01154427, 0.03030849],\n",
       "       [0.01899334, 0.05445109],\n",
       "       [0.        , 0.07612417],\n",
       "       [0.01533236, 0.03362256],\n",
       "       [0.01697031, 0.03063553],\n",
       "       [0.        , 0.07291842],\n",
       "       [0.01475838, 0.02483539],\n",
       "       [0.        , 0.04886316],\n",
       "       [0.        , 0.01846996],\n",
       "       [0.01132832, 0.02984183],\n",
       "       [0.        , 0.02809774],\n",
       "       [0.0212733 , 0.03197428],\n",
       "       [0.01204773, 0.03074083],\n",
       "       [0.01290696, 0.02741756],\n",
       "       [0.01926004, 0.03255378],\n",
       "       [0.01646701, 0.02861271],\n",
       "       [0.01562776, 0.03014268],\n",
       "       [0.02230321, 0.03149425],\n",
       "       [0.00463568, 0.01643145],\n",
       "       [0.01228473, 0.02725143],\n",
       "       [0.01506001, 0.03584642],\n",
       "       [0.00479752, 0.02558881],\n",
       "       [0.        , 0.10587997],\n",
       "       [0.        , 0.02805359],\n",
       "       [0.02246653, 0.03084277],\n",
       "       [0.01255304, 0.02928685],\n",
       "       [0.0167957 , 0.02706911],\n",
       "       [0.02356233, 0.03380425],\n",
       "       [0.        , 0.09692596],\n",
       "       [0.02046164, 0.03362506],\n",
       "       [0.00408166, 0.02006687],\n",
       "       [0.01413952, 0.02863094],\n",
       "       [0.02215215, 0.03155812],\n",
       "       [0.00680586, 0.0378896 ]])"
      ]
     },
     "execution_count": 9,
     "metadata": {},
     "output_type": "execute_result"
    }
   ],
   "source": [
    "# dtm 에서 검색하고자 하는 feature만 뽑아낸다.\n",
    "srch_dtm = np.asarray(X.toarray())[:, [\n",
    "    # vectorize.vocabulary_.get 는 특정 feature 가 dtm 에서 가지고 있는 index값을 리턴한다\n",
    "    vectorize.vocabulary_.get(i) for i in srch\n",
    "]]\n",
    "\n",
    "print(len(srch_dtm))\n",
    "srch_dtm"
   ]
  },
  {
   "cell_type": "code",
   "execution_count": 10,
   "metadata": {},
   "outputs": [
    {
     "data": {
      "text/plain": [
       "array([0.03221384, 0.03483464, 0.05004274, 0.04787267, 0.01792581,\n",
       "       0.03070787, 0.02554627, 0.04783585, 0.05464241, 0.02644911,\n",
       "       0.03584948, 0.04189206, 0.03688213, 0.03262212, 0.04178942,\n",
       "       0.05003167, 0.04640888, 0.02513198, 0.03098235, 0.04110464,\n",
       "       0.02494428, 0.02189571, 0.04721049, 0.0323269 , 0.0386588 ,\n",
       "       0.04483644, 0.02705386, 0.04185277, 0.07344442, 0.07612417,\n",
       "       0.04895492, 0.04760584, 0.07291842, 0.03959376, 0.04886316,\n",
       "       0.01846996, 0.04117015, 0.02809774, 0.05324757, 0.04278856,\n",
       "       0.04032452, 0.05181382, 0.04507972, 0.04577044, 0.05379745,\n",
       "       0.02106713, 0.03953615, 0.05090643, 0.03038632, 0.10587997,\n",
       "       0.02805359, 0.0533093 , 0.04183989, 0.04386481, 0.05736658,\n",
       "       0.09692596, 0.05408671, 0.02414853, 0.04277046, 0.05371027,\n",
       "       0.04469545])"
      ]
     },
     "execution_count": 10,
     "metadata": {},
     "output_type": "execute_result"
    }
   ],
   "source": [
    "score = srch_dtm.sum(axis=1)\n",
    "score"
   ]
  },
  {
   "cell_type": "code",
   "execution_count": 14,
   "metadata": {},
   "outputs": [
    {
     "name": "stdout",
     "output_type": "stream",
     "text": [
      "('패들핏', 0.10587996957803501)\n",
      "('필라테스', 0.09692596328676756)\n",
      "('아쿠아테크', 0.07612417377408401)\n",
      "('아쿠아바이크', 0.0734444246412008)\n",
      "('에이리얼후프', 0.07291841926849542)\n",
      "('플라잉필라테스', 0.05736658204813106)\n",
      "('뮤직복싱', 0.05464240866113455)\n",
      "('필록싱', 0.05408670617493328)\n",
      "('타바타', 0.05379745411883059)\n",
      "('헬스', 0.05371026884454804)\n",
      "('폴댄스', 0.053309295354336136)\n",
      "('점핑피트니스', 0.05324757463157929)\n"
     ]
    }
   ],
   "source": [
    "for i in score.argsort()[::-1]:\n",
    "    if score[i] > 0.053:\n",
    "        print((df['exercise_name'].iloc[i], score[i]))"
   ]
  },
  {
   "cell_type": "code",
   "execution_count": 3,
   "metadata": {},
   "outputs": [],
   "source": [
    "# df = pd.DataFrame([features])\n",
    "# df.to_csv(\"features.csv\")\n",
    "# df"
   ]
  },
  {
   "cell_type": "code",
   "execution_count": 7,
   "metadata": {
    "scrolled": true
   },
   "outputs": [
    {
     "data": {
      "text/plain": [
       "scipy.sparse.csr.csr_matrix"
      ]
     },
     "execution_count": 7,
     "metadata": {},
     "output_type": "execute_result"
    }
   ],
   "source": [
    "type(X)"
   ]
  },
  {
   "cell_type": "code",
   "execution_count": 24,
   "metadata": {},
   "outputs": [],
   "source": [
    "# save csr matrix \n",
    "# from scipy import sparse\n",
    "\n",
    "# sparse.save_npz(\"yourmatrix.npz\", X)"
   ]
  }
 ],
 "metadata": {
  "kernelspec": {
   "display_name": "Python 3",
   "language": "python",
   "name": "python3"
  },
  "language_info": {
   "codemirror_mode": {
    "name": "ipython",
    "version": 3
   },
   "file_extension": ".py",
   "mimetype": "text/x-python",
   "name": "python",
   "nbconvert_exporter": "python",
   "pygments_lexer": "ipython3",
   "version": "3.7.4"
  },
  "toc": {
   "base_numbering": 1,
   "nav_menu": {},
   "number_sections": true,
   "sideBar": true,
   "skip_h1_title": false,
   "title_cell": "Table of Contents",
   "title_sidebar": "Contents",
   "toc_cell": false,
   "toc_position": {},
   "toc_section_display": true,
   "toc_window_display": false
  },
  "varInspector": {
   "cols": {
    "lenName": 16,
    "lenType": 16,
    "lenVar": 40
   },
   "kernels_config": {
    "python": {
     "delete_cmd_postfix": "",
     "delete_cmd_prefix": "del ",
     "library": "var_list.py",
     "varRefreshCmd": "print(var_dic_list())"
    },
    "r": {
     "delete_cmd_postfix": ") ",
     "delete_cmd_prefix": "rm(",
     "library": "var_list.r",
     "varRefreshCmd": "cat(var_dic_list()) "
    }
   },
   "types_to_exclude": [
    "module",
    "function",
    "builtin_function_or_method",
    "instance",
    "_Feature"
   ],
   "window_display": false
  }
 },
 "nbformat": 4,
 "nbformat_minor": 2
}
