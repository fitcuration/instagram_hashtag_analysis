{
 "cells": [
  {
   "cell_type": "code",
   "execution_count": 13,
   "metadata": {},
   "outputs": [],
   "source": [
    "exercise_name = \"살사\""
   ]
  },
  {
   "cell_type": "code",
   "execution_count": 14,
   "metadata": {},
   "outputs": [
    {
     "data": {
      "text/plain": [
       "'2020년 새해 첫 시작으로 새로운 취미 어떠신가요?\\n\\n#라틴속으로 #살사 #바차타 #차차 #메렝게 #홍대 #홍대살사 #홍대라틴속으로 #라틴속으로살사 #살사댄스 #남미 #남미댄스 #취미 #직장인취미 #2030 #합정 #망원 #salsa #bachata #chacha #merengue\\n20191227 SA 파타야 살사벙! 금요 소셜 플레이스! 파타야 시암@시암! 노블 바차타 워크숍 수업 후 사진~\\n20191227 SA Pattaya Salsa Trip! Friday night Social place, Siam@Siam! Class pic for Bachata workshop~ THANK YOU for the great opportunity and enthusiasm in class!\\n.\\n.\\nhttp://www.salatin.co.kr\\n.\\n.\\n#살사 #살사강습 #바차타 #바차타수업 #바차타동호회 #살사동호회 #salsa #bachata #bachatasensual #파타야 #파타야여행 #파타야살사 #다이어트 #운동 #라틴 #영어 #siamatsiamdesignhotelpattaya #despacitofriday #살사여행 #취미활동 #라틴댄스 #홍대살사 #홍대바차타 #sa라틴살사댄스클럽 #sa살사 #sa바차타 #catchme #itaewon #itaewoncatchme #텐션\\n⠀\\n⠀\\n⠀\\n⠀\\n#홍대동호회 #살사동호회 #라틴속으로 #초급모집 #115기 #살사 #홍대 #합정 #연남동 #망원 #강남 #살사댄스 #생일 #홍대동호회추천 #취미 #소셜 #동호회 #소통 #인친 #친구 #바차타 #바차타댄스 #셀스타그램 #친목 #인기 #셀피 #정모 #selfie #ootd #hongdae\\n#도와주세요 \\n제 지인이 아픕니다... 많이 아픕니다\\n벌이가 시원치 않아 맘이 아파요ㅠㅠ\\n\\n울 자이쌤 @ulsan.bonita @jonghunshin \\n춤 잘춥니다! 진짜예요!!\\n울산에서 젤 잘춘다고 자기 입으로 말했어요\\n잘 갈킵니다!!!\\n부족한거 콕콕 찝어서 \\n쿠사리 줘가면서 눈물 쏙 빼면서 잘'"
      ]
     },
     "execution_count": 14,
     "metadata": {},
     "output_type": "execute_result"
    }
   ],
   "source": [
    "file_name = \"#\" + exercise_name +\"_sum.txt\"\n",
    "file_1 = \"/Users/noopy/FitCuration/\" + file_name\n",
    "text = open(file_1, 'r',-1,\"UTF-8\",errors=\"ignore\").read()\n",
    "text[:1000]"
   ]
  },
  {
   "cell_type": "code",
   "execution_count": 16,
   "metadata": {},
   "outputs": [
    {
     "data": {
      "text/plain": [
       "[('🏻', 159),\n",
       " ('💃', 119),\n",
       " ('◾', 96),\n",
       " ('🔥', 89),\n",
       " ('🕺', 76),\n",
       " ('❤', 63),\n",
       " ('🤗', 55),\n",
       " ('♥', 53),\n",
       " ('📸', 47),\n",
       " ('😍', 46),\n",
       " ('😭', 41),\n",
       " ('🌈', 38),\n",
       " ('🥰', 36),\n",
       " ('👍', 36),\n",
       " ('💕', 35),\n",
       " ('⭐', 34),\n",
       " ('⛑', 26),\n",
       " ('😆', 24),\n",
       " ('♀', 23),\n",
       " ('🤣', 23),\n",
       " ('▪', 23),\n",
       " ('♂', 22),\n",
       " ('🎶', 22),\n",
       " ('🎨', 22),\n",
       " ('®', 21),\n",
       " ('🙏', 20),\n",
       " ('🙋', 19),\n",
       " ('💪', 18),\n",
       " ('👉', 17),\n",
       " ('👏', 17),\n",
       " ('🙌', 16),\n",
       " ('😊', 16),\n",
       " ('📺', 16),\n",
       " ('🏾', 16),\n",
       " ('😗', 16),\n",
       " ('🏝', 15),\n",
       " ('📷', 15),\n",
       " ('🎞', 15),\n",
       " ('👨', 15),\n",
       " ('💻', 15),\n",
       " ('™', 14),\n",
       " ('🇨', 14),\n",
       " ('😘', 14),\n",
       " ('😏', 14),\n",
       " ('😉', 13),\n",
       " ('🙈', 13),\n",
       " ('😂', 13),\n",
       " ('💡', 13),\n",
       " ('😛', 13),\n",
       " ('😻', 12),\n",
       " ('🌟', 12),\n",
       " ('🍻', 12),\n",
       " ('😢', 12),\n",
       " ('🕴', 12),\n",
       " ('🇰', 11),\n",
       " ('🇷', 11),\n",
       " ('⛱', 11),\n",
       " ('😌', 10),\n",
       " ('⚫', 10),\n",
       " ('🇴', 10),\n",
       " ('✔', 10),\n",
       " ('🎥', 10),\n",
       " ('📼', 10),\n",
       " ('👗', 10),\n",
       " ('😅', 10),\n",
       " ('🍺', 10),\n",
       " ('💓', 9),\n",
       " ('🥳', 9),\n",
       " ('🍷', 9),\n",
       " ('💥', 9),\n",
       " ('🎉', 9),\n",
       " ('🐷', 9),\n",
       " ('🏼', 8),\n",
       " ('🤷', 8),\n",
       " ('💚', 8),\n",
       " ('🏃', 8),\n",
       " ('✍', 8),\n",
       " ('🖤', 8),\n",
       " ('🔧', 8),\n",
       " ('🛑', 8),\n",
       " ('☝', 7),\n",
       " ('👌', 7),\n",
       " ('🔸', 7),\n",
       " ('🤩', 7),\n",
       " ('⚒', 7),\n",
       " ('🍀', 7),\n",
       " ('🏖', 7),\n",
       " ('🎆', 7),\n",
       " ('🤹', 7),\n",
       " ('🤟', 6),\n",
       " ('🤭', 6),\n",
       " ('😄', 6),\n",
       " ('🇲', 6),\n",
       " ('😁', 6),\n",
       " ('😝', 6),\n",
       " ('💛', 6),\n",
       " ('🧡', 6),\n",
       " ('🚃', 6),\n",
       " ('⛏', 6),\n",
       " ('📢', 6)]"
      ]
     },
     "execution_count": 16,
     "metadata": {},
     "output_type": "execute_result"
    }
   ],
   "source": [
    "# get emojis used in instagram accounts \n",
    "import emoji\n",
    "\n",
    "def extract_emojis(str):\n",
    "  emoji_string = ''.join(c for c in str if c in emoji.UNICODE_EMOJI)\n",
    "  return emoji_string\n",
    "\n",
    "emoji_string = extract_emojis(text)\n",
    "\n",
    "from collections import Counter\n",
    "common_emoji = Counter(emoji_string)\n",
    "top_100_emojis = common_emoji.most_common(100)\n",
    "top_100_emojis"
   ]
  },
  {
   "cell_type": "code",
   "execution_count": null,
   "metadata": {},
   "outputs": [],
   "source": []
  },
  {
   "cell_type": "code",
   "execution_count": null,
   "metadata": {},
   "outputs": [],
   "source": []
  }
 ],
 "metadata": {
  "kernelspec": {
   "display_name": "Python 3",
   "language": "python",
   "name": "python3"
  },
  "language_info": {
   "codemirror_mode": {
    "name": "ipython",
    "version": 3
   },
   "file_extension": ".py",
   "mimetype": "text/x-python",
   "name": "python",
   "nbconvert_exporter": "python",
   "pygments_lexer": "ipython3",
   "version": "3.7.4"
  },
  "toc": {
   "base_numbering": 1,
   "nav_menu": {},
   "number_sections": true,
   "sideBar": true,
   "skip_h1_title": false,
   "title_cell": "Table of Contents",
   "title_sidebar": "Contents",
   "toc_cell": false,
   "toc_position": {},
   "toc_section_display": true,
   "toc_window_display": false
  },
  "varInspector": {
   "cols": {
    "lenName": 16,
    "lenType": 16,
    "lenVar": 40
   },
   "kernels_config": {
    "python": {
     "delete_cmd_postfix": "",
     "delete_cmd_prefix": "del ",
     "library": "var_list.py",
     "varRefreshCmd": "print(var_dic_list())"
    },
    "r": {
     "delete_cmd_postfix": ") ",
     "delete_cmd_prefix": "rm(",
     "library": "var_list.r",
     "varRefreshCmd": "cat(var_dic_list()) "
    }
   },
   "types_to_exclude": [
    "module",
    "function",
    "builtin_function_or_method",
    "instance",
    "_Feature"
   ],
   "window_display": false
  }
 },
 "nbformat": 4,
 "nbformat_minor": 2
}
